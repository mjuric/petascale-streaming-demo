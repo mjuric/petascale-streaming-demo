{
 "cells": [
  {
   "cell_type": "markdown",
   "metadata": {},
   "source": [
    "<img src=\"figures/dirac.png\" width=\"700\" align=\"left\">"
   ]
  },
  {
   "cell_type": "code",
   "execution_count": 2,
   "metadata": {},
   "outputs": [],
   "source": [
    "%load_ext autoreload\n",
    "%autoreload 1\n",
    "%aimport genesis.streaming"
   ]
  },
  {
   "cell_type": "markdown",
   "metadata": {},
   "source": [
    "# Streaming Alerts (with Genesis)\n",
    "\n",
    "(notebook by [@mjuric](http://github.com/mjuric))"
   ]
  },
  {
   "cell_type": "markdown",
   "metadata": {},
   "source": [
    "## What is Alert Streaming and When to Use It\n",
    "\n"
   ]
  },
  {
   "cell_type": "markdown",
   "metadata": {},
   "source": [
    "Classis survey science is not performed in real time: the analysis usually usually lags the data collection and processing. Typically, a researcher waits for (days to weeks) for a reasonably sized batch of new data to be accumulated and then performs the analysis (and frequently manually).\n",
    "\n",
    "This does not work well for use cases where the object of interest may change on short timescales and needs to be followed up rapidly. An example may be a short-timescale transient, or a potentially hazardous asteroid undergoing in an Earth flyby. For this use case, the researcher would prefer to be analyzing the data as they come in, with minimal latency between data collection and the understanding of whether a particular datum is interesting.\n",
    "\n",
    "This is solved by alert streaming: near real-time transmission of alerts to (and measurements of) objects whose properties have changed. The key differences between the \"classic\" and streaming-driven approach:\n",
    "1. Response time on order of seconds\n",
    "1. Fully automated, machine-driven, analysis"
   ]
  },
  {
   "cell_type": "markdown",
   "metadata": {},
   "source": [
    "## Streaming Challenges\n",
    "\n",
    "* Minimal latency\n",
    "* Robustness to transmission issues\n",
    "* Ease of use"
   ]
  },
  {
   "cell_type": "markdown",
   "metadata": {},
   "source": [
    "## Demo setup: (Kafka Cluster + JupyterHub on Kubernetes) on Digital Ocean\n",
    "\n",
    "The demo runs on:\n",
    "* Kafka broker cluster: 8 x 6-core machine w. 16GB of RAM (\"standard\" Droplet type)\n",
    "* JupyterHub: A 4-core machine w. 8GB of RAM per user (\"standard\" Droplet type)\n",
    "\n",
    "Within the cluster, we've set up:\n",
    "1. A small static topic with only 100 alerts (\"small\")\n",
    "2. A medium-sized topic with ~10,000 alerts (\"medium\")\n",
    "3. A topic with continuously injected alerts at LSST scale (\"lsst\")"
   ]
  },
  {
   "cell_type": "markdown",
   "metadata": {},
   "source": [
    "## Genesis Broker Access Library"
   ]
  },
  {
   "cell_type": "markdown",
   "metadata": {},
   "source": [
    "Kafka comes with performant Python libraries roughly following the API and structure of their native (Java) client libraries.\n",
    "\n",
    "Included with this demo is an early version of `genesis.streaming`, a client library for robust and scalable access to alert streams. Genesis largely abstracts away both the underlying transport protocol and alert serialization: to the user, alerts are simple Python `dict`s, delivered through familiar `generator`s."
   ]
  },
  {
   "cell_type": "code",
   "execution_count": 3,
   "metadata": {},
   "outputs": [],
   "source": [
    "import genesis.streaming as gs"
   ]
  },
  {
   "cell_type": "markdown",
   "metadata": {},
   "source": [
    "## Simple Streaming"
   ]
  },
  {
   "cell_type": "markdown",
   "metadata": {},
   "source": [
    "If you execute the cell below, it will hang forever... (click the stop ◾️button in your Jupyter to interrupt it)."
   ]
  },
  {
   "cell_type": "code",
   "execution_count": 4,
   "metadata": {},
   "outputs": [
    {
     "name": "stdout",
     "output_type": "stream",
     "text": [
      "Aborted (CTRL-C).\n"
     ]
    }
   ],
   "source": [
    "with gs.open(\"kafka://broker0.do.alerts.wtf/small\") as stream:\n",
    "    for idx, alert in stream:\n",
    "        print(\"Candidate ID:\", alert['candid'])"
   ]
  },
  {
   "cell_type": "markdown",
   "metadata": {},
   "source": [
    "What happened: Genesis (actually, Kafka) remembers what was the last alert you received from any topic (the ***offset*** of the last received alert), and will only send you new alerts. This is desired behavior -- if you weren't connected immediately when the night started (or got temporarily disconnected), you may want to catch up.\n",
    "\n",
    "But what if this is your first time you connected to the stream? If so, Genesis will default to waiting for new packets, and not sending you anything it may already have. This is a safe default: e.g., if the first time you connect to the LSST stream is one year into operations, you don't want to be sent a year's worth of alerts!\n",
    "\n",
    "In our case, since I'm not injecting any new alerts, it will wait indefinitely...\n",
    "\n",
    "Let's change this default, and have it send us everything it has. We'll also turn on a nice progress bar, and we will tell it to stop if it doesn't receive an alert in a 10 second interval."
   ]
  },
  {
   "cell_type": "code",
   "execution_count": 4,
   "metadata": {},
   "outputs": [
    {
     "data": {
      "application/vnd.jupyter.widget-view+json": {
       "model_id": "835c77af31bd473b84cbc8813eeb976c",
       "version_major": 2,
       "version_minor": 0
      },
      "text/plain": [
       "HBox(children=(IntProgress(value=1, bar_style='info', description='Alerts processed', max=1, style=ProgressSty…"
      ]
     },
     "metadata": {},
     "output_type": "display_data"
    },
    {
     "name": "stdout",
     "output_type": "stream",
     "text": [
      "[0] Candidate ID: 619124525415015014\n",
      "[1] Candidate ID: 619125121015010000\n",
      "[2] Candidate ID: 619125121815010002\n",
      "[3] Candidate ID: 619124521415015004\n",
      "[4] Candidate ID: 619124522715010001\n",
      "[5] Candidate ID: 619125122915015004\n",
      "[6] Candidate ID: 619124526115015000\n",
      "[7] Candidate ID: 619124523115015003\n",
      "[8] Candidate ID: 619124523515015008\n",
      "[9] Candidate ID: 619124525315010008\n",
      "[10] Candidate ID: 619125121115015004\n",
      "[11] Candidate ID: 619124522015015001\n",
      "[12] Candidate ID: 619125123115010002\n",
      "[13] Candidate ID: 619124523515010007\n",
      "[14] Candidate ID: 619124523915010008\n",
      "[15] Candidate ID: 619124524415015004\n",
      "[16] Candidate ID: 619124524815010002\n",
      "[17] Candidate ID: 619124525515010000\n",
      "[18] Candidate ID: 619124525915010002\n",
      "[19] Candidate ID: 619125122115010004\n",
      "[20] Candidate ID: 619124524215010008\n",
      "[21] Candidate ID: 619124525615010012\n",
      "[22] Candidate ID: 619124523615010000\n",
      "[23] Candidate ID: 619125124115010002\n",
      "[24] Candidate ID: 619125124915010008\n",
      "[25] Candidate ID: 619125121115015003\n",
      "[26] Candidate ID: 619125123115010000\n",
      "[27] Candidate ID: 619125123315010007\n",
      "[28] Candidate ID: 619124522715010004\n",
      "[29] Candidate ID: 619124523815015006\n",
      "[30] Candidate ID: 619124520915010002\n",
      "[31] Candidate ID: 619125124215010002\n",
      "[32] Candidate ID: 619125124615010002\n",
      "[33] Candidate ID: 619125124815010009\n",
      "[34] Candidate ID: 619124520915010000\n",
      "[35] Candidate ID: 619124525515015005\n",
      "[36] Candidate ID: 619124525715010009\n",
      "[37] Candidate ID: 619124525715010013\n",
      "[38] Candidate ID: 619125120615015002\n",
      "[39] Candidate ID: 619125121515015000\n",
      "[40] Candidate ID: 619125121815015000\n",
      "[41] Candidate ID: 619125121915015005\n",
      "[42] Candidate ID: 619124524215015006\n",
      "[43] Candidate ID: 619124522415010003\n",
      "[44] Candidate ID: 619125122315010007\n",
      "[45] Candidate ID: 619125122415010010\n",
      "[46] Candidate ID: 619125121815010001\n",
      "[47] Candidate ID: 619125124315010004\n",
      "[48] Candidate ID: 619124525515015007\n",
      "[49] Candidate ID: 619125121315010002\n",
      "[50] Candidate ID: 619124521615015005\n",
      "[51] Candidate ID: 619124522015010000\n",
      "[52] Candidate ID: 619125123315010006\n",
      "[53] Candidate ID: 619124523915010006\n",
      "[54] Candidate ID: 619124524315010000\n",
      "[55] Candidate ID: 619124525115010004\n",
      "[56] Candidate ID: 619125122615015000\n",
      "[57] Candidate ID: 619125122715015001\n",
      "[58] Candidate ID: 619125122815015001\n",
      "[59] Candidate ID: 619125123915010003\n",
      "[60] Candidate ID: 619125124515010000\n",
      "[61] Candidate ID: 619124523015010000\n",
      "[62] Candidate ID: 619125123115015005\n",
      "[63] Candidate ID: 619125123315010003\n",
      "[64] Candidate ID: 619125123415015006\n",
      "[65] Candidate ID: 619124523615015006\n",
      "[66] Candidate ID: 619125120715010001\n",
      "[67] Candidate ID: 619125120215015004\n",
      "[68] Candidate ID: 619124521915015005\n",
      "[69] Candidate ID: 619124523115010001\n",
      "[70] Candidate ID: 619124523815010002\n",
      "[71] Candidate ID: 619125123215015000\n",
      "[72] Candidate ID: 619125123715015002\n",
      "[73] Candidate ID: 619125124915010010\n",
      "[74] Candidate ID: 619125122115015007\n",
      "[75] Candidate ID: 619125123315010001\n",
      "[76] Candidate ID: 619125123515015000\n",
      "[77] Candidate ID: 619124520615010001\n",
      "[78] Candidate ID: 619124521815010001\n",
      "[79] Candidate ID: 619125124615010001\n",
      "[80] Candidate ID: 619124525815015000\n",
      "[81] Candidate ID: 619124523215010004\n",
      "[82] Candidate ID: 619125120915010000\n",
      "[83] Candidate ID: 619125123215015005\n",
      "[84] Candidate ID: 619125123515015014\n",
      "[85] Candidate ID: 619124524315010003\n",
      "[86] Candidate ID: 619125122815010002\n",
      "[87] Candidate ID: 619125122915010002\n",
      "[88] Candidate ID: 619125123315015000\n",
      "[89] Candidate ID: 619124523815010000\n",
      "[90] Candidate ID: 619125122015010005\n",
      "[91] Candidate ID: 619125122115010005\n",
      "[92] Candidate ID: 619124525915010001\n",
      "[93] Candidate ID: 619125120015010016\n",
      "[94] Candidate ID: 619124521415015003\n",
      "[95] Candidate ID: 619125121115010000\n",
      "[96] Candidate ID: 619124522715015011\n",
      "[97] Candidate ID: 619125120715010005\n",
      "[98] Candidate ID: 619124520615015004\n",
      "[99] Candidate ID: 619125123515015013\n",
      "\n"
     ]
    }
   ],
   "source": [
    "with gs.open(\"kafka://broker0.do.alerts.wtf/small\", start_at=\"earliest\") as stream:\n",
    "    for idx, alert in stream(timeout=10, progress=True):\n",
    "        print(\"[%d] Candidate ID: %s\" % (idx, alert['candid']))"
   ]
  },
  {
   "cell_type": "markdown",
   "metadata": {},
   "source": [
    "You may notice a slight pause before the streaming starts: this is Kafka establishing connections to the broker cluster. Once the connections are established, the alerts start streaming quickly."
   ]
  },
  {
   "cell_type": "markdown",
   "metadata": {},
   "source": [
    "Rather than printing the alerts, let's just store their IDs."
   ]
  },
  {
   "cell_type": "code",
   "execution_count": 5,
   "metadata": {},
   "outputs": [
    {
     "data": {
      "application/vnd.jupyter.widget-view+json": {
       "model_id": "ad14f4370c2847ee87f1c11b57dcb019",
       "version_major": 2,
       "version_minor": 0
      },
      "text/plain": [
       "HBox(children=(IntProgress(value=1, bar_style='info', description='Alerts processed', max=1, style=ProgressSty…"
      ]
     },
     "metadata": {},
     "output_type": "display_data"
    },
    {
     "name": "stdout",
     "output_type": "stream",
     "text": [
      "\n",
      "Read 100 alerts.\n",
      "First few candidate IDs: [619124520615010001, 619124520615015004, 619124520915010000]\n"
     ]
    }
   ],
   "source": [
    "with gs.open(\"kafka://broker0.do.alerts.wtf/small\", start_at=\"earliest\") as stream:\n",
    "    alerts = [ alert['candid'] for _, alert in stream(timeout=10, progress=True) ]\n",
    "\n",
    "alerts.sort()\n",
    "\n",
    "print(f\"Read {len(alerts)} alerts.\")\n",
    "print(\"First few candidate IDs:\", alerts[:3])"
   ]
  },
  {
   "cell_type": "markdown",
   "metadata": {},
   "source": [
    "### Remembering \"offsets\""
   ]
  },
  {
   "cell_type": "markdown",
   "metadata": {},
   "source": [
    "Kafka can remember the `offset` of the last transmitted alert; next time you connect, it will start streaming from that offset.\n",
    "\n",
    "For this to work, we need to connect to a stream with a \"consumer ID\" -- a name uniquely identifying you. Kafka will associate the offset to the consumer ID; the next time the same consumer ID connects, it will continue streaming the offset associated to it.\n",
    "\n",
    "Let's generate a random consumer ID for your demo session, and add it to the stream URL:"
   ]
  },
  {
   "cell_type": "code",
   "execution_count": 6,
   "metadata": {},
   "outputs": [
    {
     "name": "stdout",
     "output_type": "stream",
     "text": [
      "Consumer ID: R1HSBZU4\n",
      "Broker URL:  kafka://R1HSBZU4@broker0.do.alerts.wtf/small\n"
     ]
    }
   ],
   "source": [
    "import random, string\n",
    "\n",
    "id = ''.join(random.choices(string.ascii_uppercase + string.digits, k=8))\n",
    "broker_url = \"kafka://{}@broker0.do.alerts.wtf/small\".format(id)\n",
    "\n",
    "print(\"Consumer ID:\", id)\n",
    "print(\"Broker URL: \", broker_url)"
   ]
  },
  {
   "cell_type": "markdown",
   "metadata": {},
   "source": [
    "Let's read in a few alerts:"
   ]
  },
  {
   "cell_type": "code",
   "execution_count": 7,
   "metadata": {},
   "outputs": [
    {
     "data": {
      "application/vnd.jupyter.widget-view+json": {
       "model_id": "bb21db49f55e43e0bbe56ffb2125e0f9",
       "version_major": 2,
       "version_minor": 0
      },
      "text/plain": [
       "HBox(children=(IntProgress(value=0, description='Alerts processed', max=25, style=ProgressStyle(description_wi…"
      ]
     },
     "metadata": {},
     "output_type": "display_data"
    },
    {
     "name": "stdout",
     "output_type": "stream",
     "text": [
      "\n",
      "Read 25 alerts.\n",
      "First few candidate IDs: [619124520915010002, 619124521415015004, 619124521915015005]\n"
     ]
    }
   ],
   "source": [
    "with gs.open(broker_url, start_at=\"earliest\") as stream:\n",
    "    alerts1 = [ alert['candid'] for _, alert in stream(limit=25, progress=True) ]\n",
    "    \n",
    "    # ... now do some work with the alert ...\n",
    "    \n",
    "    # stream.commit()\n",
    "\n",
    "alerts1.sort()\n",
    "\n",
    "print(f\"Read {len(alerts1)} alerts.\")\n",
    "print(\"First few candidate IDs:\", alerts1[:3])"
   ]
  },
  {
   "cell_type": "markdown",
   "metadata": {},
   "source": [
    "Let's read in the rest:"
   ]
  },
  {
   "cell_type": "code",
   "execution_count": 8,
   "metadata": {},
   "outputs": [
    {
     "data": {
      "application/vnd.jupyter.widget-view+json": {
       "model_id": "9e175988dba5446fb32c4d4eea8a9b81",
       "version_major": 2,
       "version_minor": 0
      },
      "text/plain": [
       "HBox(children=(IntProgress(value=1, bar_style='info', description='Alerts processed', max=1, style=ProgressSty…"
      ]
     },
     "metadata": {},
     "output_type": "display_data"
    },
    {
     "name": "stdout",
     "output_type": "stream",
     "text": [
      "\n",
      "Read 100 alerts.\n",
      "First few candidate IDs: [619124520615010001, 619124520615015004, 619124520915010000]\n"
     ]
    }
   ],
   "source": [
    "with gs.open(broker_url, start_at=\"earliest\") as stream:\n",
    "    alerts2 = [ alert['candid'] for _, alert in stream(timeout=10, progress=True) ]\n",
    "\n",
    "    # ... now do some work with the alert ...\n",
    "    \n",
    "    # stream.commit()\n",
    "\n",
    "alerts2.sort()\n",
    "\n",
    "print(f\"Read {len(alerts2)} alerts.\")\n",
    "print(\"First few candidate IDs:\", alerts2[:3])"
   ]
  },
  {
   "cell_type": "markdown",
   "metadata": {},
   "source": [
    "Why didn't it continue from wher we left off? Because the broker needs to be _explicitly_ told to commit the offset. It doesn't do so automatically to prevent data loss. \n",
    "\n",
    "To illustrate: if we committed the offset as soon as the alert is returned to you, and the code in _\"... now do some work with the alert ...\"_ section above crashes before acting on the alerts, the next time you connect to the broker these alerts would be skipped.\n",
    "\n",
    "This is why you must explicitly call `stream.commit()` once you're certain the received alerts were successfully processed.\n",
    "\n",
    "Now go back up, uncommend the `stream.commit()` lines, and re-execute these two cells."
   ]
  },
  {
   "cell_type": "markdown",
   "metadata": {},
   "source": [
    "Finally, let's verify nothing was lost:"
   ]
  },
  {
   "cell_type": "code",
   "execution_count": 9,
   "metadata": {},
   "outputs": [
    {
     "data": {
      "text/plain": [
       "True"
      ]
     },
     "execution_count": 9,
     "metadata": {},
     "output_type": "execute_result"
    }
   ],
   "source": [
    "set(alerts) == set(alerts1 + alerts2)"
   ]
  },
  {
   "cell_type": "markdown",
   "metadata": {},
   "source": [
    "### About Kafka delivery guarantees\n",
    "\n",
    "A couple of warnings about Kafka's delivery guarantees:\n",
    "* **Kafka does not guarantee the order in which you'll receive the alerts**: it guarantees delivery, but some may be out of order.\n",
    "* **Kafka (typically) guarantees \"at least once\" delivery**: that is, you may receive some alerts more than once (if there's a crash, a network interruption, or any similar exceptional situation). Your code should guard agaist this. Exactly-once semantics difficult, but possible (and coming in the future).\n",
    "\n",
    "![Distributed computing problems](https://cdn.confluent.io/wp-content/uploads/image2.png)\n",
    "\n",
    "-- [Mathias Verraes](https://www.linkedin.com/in/mathiasverraes/)"
   ]
  },
  {
   "cell_type": "markdown",
   "metadata": {},
   "source": [
    "## Filtering the stream\n",
    "\n",
    "Now let's filter the stream for objects of interest. Say we're only interested in asteroids, and wish to ignore the rest.\n",
    "\n",
    "We'll write a filter function which checks whether the alert candidate has the \"Nearby Solar System object Name\" field set to something other than \"null\":"
   ]
  },
  {
   "cell_type": "code",
   "execution_count": 10,
   "metadata": {
    "collapsed": true
   },
   "outputs": [],
   "source": [
    "def filter_asteroids(alert):\n",
    "    if alert['candidate']['ssnamenr'] != 'null':\n",
    "        return alert\n",
    "    else:\n",
    "        return None"
   ]
  },
  {
   "cell_type": "code",
   "execution_count": 11,
   "metadata": {},
   "outputs": [
    {
     "data": {
      "application/vnd.jupyter.widget-view+json": {
       "model_id": "8cc8128f9adb4c85b3ab7c1918a5d9cd",
       "version_major": 2,
       "version_minor": 0
      },
      "text/plain": [
       "HBox(children=(IntProgress(value=0, description='Alerts processed', max=10, style=ProgressStyle(description_wi…"
      ]
     },
     "metadata": {},
     "output_type": "display_data"
    },
    {
     "name": "stdout",
     "output_type": "stream",
     "text": [
      "[39] Candidate ID: 619144901515015003 82382\n",
      "[212] Candidate ID: 619144900715015062 7022\n",
      "[284] Candidate ID: 619145351615015000 11395\n",
      "[978] Candidate ID: 619144903315015016 34486\n",
      "[1034] Candidate ID: 619144901215015053 1868\n",
      "[1172] Candidate ID: 619145351915015006 8168\n",
      "[1290] Candidate ID: 619145355515015022 152974\n",
      "[1562] Candidate ID: 619145354515015000 117572\n",
      "[1676] Candidate ID: 619144902415015006 95923\n",
      "[1882] Candidate ID: 619144902915015022 169988\n",
      "\n"
     ]
    }
   ],
   "source": [
    "with gs.open(\"kafka://broker0.do.alerts.wtf/medium\", start_at=\"earliest\") as stream:\n",
    "    for idx, alert in stream(limit=10, timeout=10, progress=True, filter=filter_asteroids):\n",
    "        print(f\"[{idx}] Candidate ID: {alert['candid']} {alert['candidate']['ssnamenr']}\")"
   ]
  },
  {
   "cell_type": "markdown",
   "metadata": {},
   "source": [
    "By looking at the [fields available in the alert packet](https://zwickytransientfacility.github.io/ztf-avro-alert/schema.html), you can construct arbitrarily complex filters.\n",
    "\n",
    "Here's one that checks whether an object may be a transient:"
   ]
  },
  {
   "cell_type": "code",
   "execution_count": 12,
   "metadata": {
    "collapsed": true
   },
   "outputs": [],
   "source": [
    "import pandas as pd\n",
    "import numpy as np\n",
    "import astropy.units as u\n",
    "\n",
    "def is_transient(alert):\n",
    "    # Filter by E. C. Bellm (@ebellm on GitHub)\n",
    "\n",
    "    # if only a single discovery, bail out -- we wait for at least two\n",
    "    # before triggering\n",
    "    if alert['prv_candidates'] is None:\n",
    "        return\n",
    "    \n",
    "    dflc = pd.DataFrame( [ alert['candidate'] ] + alert['prv_candidates'])\n",
    "    candidate = dflc.loc[0]\n",
    "\n",
    "    # positive subtraction?\n",
    "    is_positive_sub = candidate['isdiffpos'] == 't'\n",
    "    \n",
    "    # no nearby source\n",
    "    if (candidate['distpsnr1'] is None) or (candidate['distpsnr1'] > 1.5):\n",
    "        no_pointsource_counterpart = True\n",
    "    else:\n",
    "        # nearby source, but it's a galaxy?\n",
    "        if candidate['sgscore1'] < 0.5:\n",
    "            no_pointsource_counterpart = True\n",
    "        else:\n",
    "            no_pointsource_counterpart = False\n",
    "            \n",
    "    where_detected = (dflc['isdiffpos'] == 't') # nondetections will be None\n",
    "    if np.sum(where_detected) >= 2:\n",
    "        detection_times = dflc.loc[where_detected,'jd'].values\n",
    "        dt = np.diff(detection_times)\n",
    "        not_moving = np.max(dt) >= (30*u.minute).to(u.day).value\n",
    "    else:\n",
    "        not_moving = False\n",
    "    \n",
    "    no_ssobject = (candidate['ssdistnr'] is None) or (candidate['ssdistnr'] < 0) or (candidate['ssdistnr'] > 5)\n",
    "    \n",
    "    if is_positive_sub and no_pointsource_counterpart and not_moving and no_ssobject:\n",
    "        return alert\n",
    "\n",
    "    return None"
   ]
  },
  {
   "cell_type": "code",
   "execution_count": 13,
   "metadata": {
    "scrolled": true
   },
   "outputs": [
    {
     "data": {
      "application/vnd.jupyter.widget-view+json": {
       "model_id": "fd0384b6b6a84efdbbc3f61f9b168d02",
       "version_major": 2,
       "version_minor": 0
      },
      "text/plain": [
       "HBox(children=(IntProgress(value=0, description='Alerts processed', max=10, style=ProgressStyle(description_wi…"
      ]
     },
     "metadata": {},
     "output_type": "display_data"
    },
    {
     "name": "stdout",
     "output_type": "stream",
     "text": [
      "[161] Candidate ID: 619125121815015000\n",
      "[218] Candidate ID: 619126252815015003\n",
      "[224] Candidate ID: 619125796115015003\n",
      "[251] Candidate ID: 619144900715015065\n",
      "[274] Candidate ID: 619126713315015008\n",
      "[284] Candidate ID: 619126712515015002\n",
      "[487] Candidate ID: 619144900515015043\n",
      "[634] Candidate ID: 619133751515015001\n",
      "[635] Candidate ID: 619133751515015044\n",
      "[688] Candidate ID: 619144901815015015\n",
      "\n"
     ]
    }
   ],
   "source": [
    "with gs.open(\"kafka://broker0.do.alerts.wtf/medium\", start_at=\"earliest\") as stream:\n",
    "    for idx, alert in stream(limit=10, timeout=10, progress=True, filter=is_transient):\n",
    "        print(f\"[{idx}] Candidate ID: {alert['candid']}\")"
   ]
  },
  {
   "cell_type": "markdown",
   "metadata": {},
   "source": [
    "The filter in the above example was (intentionally) written to be slow. At this processing rate, it may not be able to keep up with the full LSST alert stream.\n",
    "\n",
    "Fortunately, Genesis knows how to parallelize execution over multiple cores, using Python's `multiprocessing.Pool`:"
   ]
  },
  {
   "cell_type": "code",
   "execution_count": 14,
   "metadata": {},
   "outputs": [
    {
     "data": {
      "application/vnd.jupyter.widget-view+json": {
       "model_id": "a23e1cd258634057a8bd867f6b5d6b53",
       "version_major": 2,
       "version_minor": 0
      },
      "text/plain": [
       "HBox(children=(IntProgress(value=0, description='Alerts processed', max=10, style=ProgressStyle(description_wi…"
      ]
     },
     "metadata": {},
     "output_type": "display_data"
    },
    {
     "name": "stdout",
     "output_type": "stream",
     "text": [
      "[253] Candidate ID: 619125121815015000\n",
      "[383] Candidate ID: 619144900715015065\n",
      "[463] Candidate ID: 619144900515015043\n",
      "[498] Candidate ID: 619126252815015003\n",
      "[504] Candidate ID: 619125796115015003\n",
      "[681] Candidate ID: 619126713315015008\n",
      "[691] Candidate ID: 619126712515015002\n",
      "[782] Candidate ID: 619144901815015015\n",
      "[1024] Candidate ID: 619133751515015001\n",
      "[1025] Candidate ID: 619133751515015044\n",
      "\n"
     ]
    }
   ],
   "source": [
    "from multiprocessing import Pool\n",
    "\n",
    "with Pool(4) as workers:\n",
    "    with gs.open(\"kafka://broker0.do.alerts.wtf/medium\", start_at=\"earliest\") as stream:\n",
    "        for idx, alert in stream(pool=workers, limit=10, timeout=10, progress=True, filter=is_transient):\n",
    "            print(f\"[{idx}] Candidate ID: {alert['candid']}\")"
   ]
  },
  {
   "cell_type": "markdown",
   "metadata": {},
   "source": [
    "## Robustness\n",
    "\n",
    "Kafka is a distributed system robust to component failures.\n",
    "\n",
    "The cluster of kafka brokers in our demo setup has a \"replication factor\" of 2 -- that is, each alert is mirrored on at least two brokers. Therefore, one broker may fail without a data loss; the clients will transparently switch to receive data from the other replica. Let's demonstrate this!"
   ]
  },
  {
   "cell_type": "markdown",
   "metadata": {},
   "source": [
    "When I give a signal, please start the cell below. It will start downloading alerts from a topic with 10,000 alerts. As it's running, I will shut down one of the brokers in the cluster; your client should still download the full 10,000 alerts."
   ]
  },
  {
   "cell_type": "code",
   "execution_count": 20,
   "metadata": {},
   "outputs": [
    {
     "data": {
      "application/vnd.jupyter.widget-view+json": {
       "model_id": "c277646485974840b9f482fbed1d925e",
       "version_major": 2,
       "version_minor": 0
      },
      "text/plain": [
       "HBox(children=(IntProgress(value=1, bar_style='info', description='Alerts processed', max=1, style=ProgressSty…"
      ]
     },
     "metadata": {},
     "output_type": "display_data"
    },
    {
     "name": "stdout",
     "output_type": "stream",
     "text": [
      "\n"
     ]
    }
   ],
   "source": [
    "with gs.open(\"kafka://broker0.do.alerts.wtf/medium\", start_at=\"earliest\") as stream:\n",
    "    for idx, alert in stream(timeout=10, progress=True):\n",
    "        # we'll do nothing -- just show the progress bar.\n",
    "        pass;"
   ]
  },
  {
   "cell_type": "markdown",
   "metadata": {},
   "source": [
    "## Scalability\n",
    "\n",
    "And now for the main event: let's see if we can stream and filter alerts at the full LSST rate!\n",
    "\n",
    "I have set up a script that injects 10,000 LSST-sized ZTF alerts every 40 seconds (average LSST rate).\n",
    "\n",
    "When I give the signal, please execute the cell below to start consuming from this stream. We will observe how many simultaneous users we can have before the system fails to keep up!"
   ]
  },
  {
   "cell_type": "code",
   "execution_count": 4,
   "metadata": {},
   "outputs": [
    {
     "data": {
      "application/vnd.jupyter.widget-view+json": {
       "model_id": "60e731c8524940d5963aaa2533a5ca4f",
       "version_major": 2,
       "version_minor": 0
      },
      "text/plain": [
       "HBox(children=(IntProgress(value=1, bar_style='info', description='Alerts processed', max=1, style=ProgressSty…"
      ]
     },
     "metadata": {},
     "output_type": "display_data"
    },
    {
     "name": "stdout",
     "output_type": "stream",
     "text": [
      "Aborted (CTRL-C).\n"
     ]
    }
   ],
   "source": [
    "with gs.Pool(4) as workers:\n",
    "    with gs.open(\"kafka://broker0.do.alerts.wtf/lsst\") as stream:\n",
    "        for idx, alert in stream(pool=workers, progress=True):\n",
    "            # we'll do nothing -- just show the progress bar.\n",
    "            pass;"
   ]
  },
  {
   "cell_type": "markdown",
   "metadata": {},
   "source": [
    "## Acknowledgements\n",
    "\n",
    "This work has been supported by:\n",
    "\n",
    "![Supported By](figures/foundation-logos.png)"
   ]
  }
 ],
 "metadata": {
  "kernelspec": {
   "display_name": "Python 3",
   "language": "python",
   "name": "python3"
  },
  "language_info": {
   "codemirror_mode": {
    "name": "ipython",
    "version": 3
   },
   "file_extension": ".py",
   "mimetype": "text/x-python",
   "name": "python",
   "nbconvert_exporter": "python",
   "pygments_lexer": "ipython3",
   "version": "3.7.3"
  }
 },
 "nbformat": 4,
 "nbformat_minor": 2
}
